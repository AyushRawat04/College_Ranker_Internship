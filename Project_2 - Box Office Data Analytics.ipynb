{
 "cells": [
  {
   "cell_type": "markdown",
   "metadata": {
    "id": "DH9WovFhPo5r"
   },
   "source": [
    "# <center>Box Office Data Analytics</h2>"
   ]
  },
  {
   "cell_type": "markdown",
   "metadata": {},
   "source": [
    "# CollegeRanker Internship\n",
    "# Intern Name: AYUSH SINGH RAWAT"
   ]
  },
  {
   "cell_type": "markdown",
   "metadata": {
    "id": "O_yEWwN1Po5z"
   },
   "source": [
    "## Import Libraries"
   ]
  },
  {
   "cell_type": "code",
   "execution_count": 5,
   "metadata": {
    "id": "sTVHZTdEPo50"
   },
   "outputs": [],
   "source": [
    "import numpy as np\n",
    "import pandas as pd\n",
    "import matplotlib.pyplot as plt\n",
    "import seaborn as sns"
   ]
  },
  {
   "cell_type": "markdown",
   "metadata": {
    "id": "Hje7yn7kPo52"
   },
   "source": [
    "## Task 1: Data Loading and Exploration"
   ]
  },
  {
   "cell_type": "code",
   "execution_count": 6,
   "metadata": {
    "id": "_8by8dRhPo53"
   },
   "outputs": [
    {
     "data": {
      "text/html": [
       "<div>\n",
       "<style scoped>\n",
       "    .dataframe tbody tr th:only-of-type {\n",
       "        vertical-align: middle;\n",
       "    }\n",
       "\n",
       "    .dataframe tbody tr th {\n",
       "        vertical-align: top;\n",
       "    }\n",
       "\n",
       "    .dataframe thead th {\n",
       "        text-align: right;\n",
       "    }\n",
       "</style>\n",
       "<table border=\"1\" class=\"dataframe\">\n",
       "  <thead>\n",
       "    <tr style=\"text-align: right;\">\n",
       "      <th></th>\n",
       "      <th>id</th>\n",
       "      <th>budget</th>\n",
       "      <th>homepage</th>\n",
       "      <th>imdb_id</th>\n",
       "      <th>original_language</th>\n",
       "      <th>original_title</th>\n",
       "      <th>overview</th>\n",
       "      <th>popularity</th>\n",
       "      <th>poster_path</th>\n",
       "      <th>release_date</th>\n",
       "      <th>...</th>\n",
       "      <th>departments_Art</th>\n",
       "      <th>departments_Crew</th>\n",
       "      <th>departments_Writing</th>\n",
       "      <th>departments_Costume &amp; Make-Up</th>\n",
       "      <th>departments_Camera</th>\n",
       "      <th>departments_Directing</th>\n",
       "      <th>departments_Editing</th>\n",
       "      <th>departments_Visual Effects</th>\n",
       "      <th>departments_Lighting</th>\n",
       "      <th>departments_Actors</th>\n",
       "    </tr>\n",
       "  </thead>\n",
       "  <tbody>\n",
       "    <tr>\n",
       "      <th>0</th>\n",
       "      <td>1</td>\n",
       "      <td>14000000</td>\n",
       "      <td>NaN</td>\n",
       "      <td>tt2637294</td>\n",
       "      <td>en</td>\n",
       "      <td>Hot Tub Time Machine 2</td>\n",
       "      <td>When Lou, who has become the \"father of the In...</td>\n",
       "      <td>6.575393</td>\n",
       "      <td>/tQtWuwvMf0hCc2QR2tkolwl7c3c.jpg</td>\n",
       "      <td>2/20/15</td>\n",
       "      <td>...</td>\n",
       "      <td>12</td>\n",
       "      <td>4</td>\n",
       "      <td>2</td>\n",
       "      <td>13</td>\n",
       "      <td>8</td>\n",
       "      <td>4</td>\n",
       "      <td>2</td>\n",
       "      <td>4</td>\n",
       "      <td>4</td>\n",
       "      <td>0</td>\n",
       "    </tr>\n",
       "    <tr>\n",
       "      <th>1</th>\n",
       "      <td>2</td>\n",
       "      <td>40000000</td>\n",
       "      <td>NaN</td>\n",
       "      <td>tt0368933</td>\n",
       "      <td>en</td>\n",
       "      <td>The Princess Diaries 2: Royal Engagement</td>\n",
       "      <td>Mia Thermopolis is now a college graduate and ...</td>\n",
       "      <td>8.248895</td>\n",
       "      <td>/w9Z7A0GHEhIp7etpj0vyKOeU1Wx.jpg</td>\n",
       "      <td>8/6/04</td>\n",
       "      <td>...</td>\n",
       "      <td>0</td>\n",
       "      <td>0</td>\n",
       "      <td>1</td>\n",
       "      <td>0</td>\n",
       "      <td>1</td>\n",
       "      <td>1</td>\n",
       "      <td>1</td>\n",
       "      <td>0</td>\n",
       "      <td>0</td>\n",
       "      <td>0</td>\n",
       "    </tr>\n",
       "    <tr>\n",
       "      <th>2</th>\n",
       "      <td>3</td>\n",
       "      <td>3300000</td>\n",
       "      <td>http://sonyclassics.com/whiplash/</td>\n",
       "      <td>tt2582802</td>\n",
       "      <td>en</td>\n",
       "      <td>Whiplash</td>\n",
       "      <td>Under the direction of a ruthless instructor, ...</td>\n",
       "      <td>64.299990</td>\n",
       "      <td>/lIv1QinFqz4dlp5U4lQ6HaiskOZ.jpg</td>\n",
       "      <td>10/10/14</td>\n",
       "      <td>...</td>\n",
       "      <td>5</td>\n",
       "      <td>9</td>\n",
       "      <td>1</td>\n",
       "      <td>5</td>\n",
       "      <td>4</td>\n",
       "      <td>3</td>\n",
       "      <td>6</td>\n",
       "      <td>3</td>\n",
       "      <td>1</td>\n",
       "      <td>0</td>\n",
       "    </tr>\n",
       "    <tr>\n",
       "      <th>3</th>\n",
       "      <td>4</td>\n",
       "      <td>1200000</td>\n",
       "      <td>http://kahaanithefilm.com/</td>\n",
       "      <td>tt1821480</td>\n",
       "      <td>hi</td>\n",
       "      <td>Kahaani</td>\n",
       "      <td>Vidya Bagchi (Vidya Balan) arrives in Kolkata ...</td>\n",
       "      <td>3.174936</td>\n",
       "      <td>/aTXRaPrWSinhcmCrcfJK17urp3F.jpg</td>\n",
       "      <td>3/9/12</td>\n",
       "      <td>...</td>\n",
       "      <td>0</td>\n",
       "      <td>0</td>\n",
       "      <td>1</td>\n",
       "      <td>0</td>\n",
       "      <td>0</td>\n",
       "      <td>1</td>\n",
       "      <td>0</td>\n",
       "      <td>0</td>\n",
       "      <td>0</td>\n",
       "      <td>0</td>\n",
       "    </tr>\n",
       "    <tr>\n",
       "      <th>4</th>\n",
       "      <td>5</td>\n",
       "      <td>0</td>\n",
       "      <td>NaN</td>\n",
       "      <td>tt1380152</td>\n",
       "      <td>ko</td>\n",
       "      <td>마린보이</td>\n",
       "      <td>Marine Boy is the story of a former national s...</td>\n",
       "      <td>1.148070</td>\n",
       "      <td>/m22s7zvkVFDU9ir56PiiqIEWFdT.jpg</td>\n",
       "      <td>2/5/09</td>\n",
       "      <td>...</td>\n",
       "      <td>0</td>\n",
       "      <td>0</td>\n",
       "      <td>1</td>\n",
       "      <td>0</td>\n",
       "      <td>0</td>\n",
       "      <td>1</td>\n",
       "      <td>0</td>\n",
       "      <td>0</td>\n",
       "      <td>0</td>\n",
       "      <td>0</td>\n",
       "    </tr>\n",
       "  </tbody>\n",
       "</table>\n",
       "<p>5 rows × 203 columns</p>\n",
       "</div>"
      ],
      "text/plain": [
       "   id    budget                           homepage    imdb_id  \\\n",
       "0   1  14000000                                NaN  tt2637294   \n",
       "1   2  40000000                                NaN  tt0368933   \n",
       "2   3   3300000  http://sonyclassics.com/whiplash/  tt2582802   \n",
       "3   4   1200000         http://kahaanithefilm.com/  tt1821480   \n",
       "4   5         0                                NaN  tt1380152   \n",
       "\n",
       "  original_language                            original_title  \\\n",
       "0                en                    Hot Tub Time Machine 2   \n",
       "1                en  The Princess Diaries 2: Royal Engagement   \n",
       "2                en                                  Whiplash   \n",
       "3                hi                                   Kahaani   \n",
       "4                ko                                      마린보이   \n",
       "\n",
       "                                            overview  popularity  \\\n",
       "0  When Lou, who has become the \"father of the In...    6.575393   \n",
       "1  Mia Thermopolis is now a college graduate and ...    8.248895   \n",
       "2  Under the direction of a ruthless instructor, ...   64.299990   \n",
       "3  Vidya Bagchi (Vidya Balan) arrives in Kolkata ...    3.174936   \n",
       "4  Marine Boy is the story of a former national s...    1.148070   \n",
       "\n",
       "                        poster_path release_date  ...  departments_Art  \\\n",
       "0  /tQtWuwvMf0hCc2QR2tkolwl7c3c.jpg      2/20/15  ...               12   \n",
       "1  /w9Z7A0GHEhIp7etpj0vyKOeU1Wx.jpg       8/6/04  ...                0   \n",
       "2  /lIv1QinFqz4dlp5U4lQ6HaiskOZ.jpg     10/10/14  ...                5   \n",
       "3  /aTXRaPrWSinhcmCrcfJK17urp3F.jpg       3/9/12  ...                0   \n",
       "4  /m22s7zvkVFDU9ir56PiiqIEWFdT.jpg       2/5/09  ...                0   \n",
       "\n",
       "  departments_Crew departments_Writing departments_Costume & Make-Up  \\\n",
       "0                4                   2                            13   \n",
       "1                0                   1                             0   \n",
       "2                9                   1                             5   \n",
       "3                0                   1                             0   \n",
       "4                0                   1                             0   \n",
       "\n",
       "  departments_Camera  departments_Directing departments_Editing  \\\n",
       "0                  8                      4                   2   \n",
       "1                  1                      1                   1   \n",
       "2                  4                      3                   6   \n",
       "3                  0                      1                   0   \n",
       "4                  0                      1                   0   \n",
       "\n",
       "   departments_Visual Effects  departments_Lighting departments_Actors  \n",
       "0                           4                     4                  0  \n",
       "1                           0                     0                  0  \n",
       "2                           3                     1                  0  \n",
       "3                           0                     0                  0  \n",
       "4                           0                     0                  0  \n",
       "\n",
       "[5 rows x 203 columns]"
      ]
     },
     "execution_count": 6,
     "metadata": {},
     "output_type": "execute_result"
    }
   ],
   "source": [
    "data = pd.read_csv(\"box_office.csv\")\n",
    "data.head()"
   ]
  },
  {
   "cell_type": "code",
   "execution_count": 7,
   "metadata": {
    "id": "A1N51GVKPo54"
   },
   "outputs": [
    {
     "data": {
      "text/plain": [
       "(3000, 203)"
      ]
     },
     "execution_count": 7,
     "metadata": {},
     "output_type": "execute_result"
    }
   ],
   "source": [
    "data.shape"
   ]
  },
  {
   "cell_type": "code",
   "execution_count": 8,
   "metadata": {},
   "outputs": [
    {
     "name": "stdout",
     "output_type": "stream",
     "text": [
      "<class 'pandas.core.frame.DataFrame'>\n",
      "RangeIndex: 3000 entries, 0 to 2999\n",
      "Columns: 203 entries, id to departments_Actors\n",
      "dtypes: float64(2), int64(188), object(13)\n",
      "memory usage: 4.6+ MB\n"
     ]
    }
   ],
   "source": [
    "data.info()"
   ]
  },
  {
   "cell_type": "code",
   "execution_count": 9,
   "metadata": {},
   "outputs": [
    {
     "data": {
      "text/html": [
       "<div>\n",
       "<style scoped>\n",
       "    .dataframe tbody tr th:only-of-type {\n",
       "        vertical-align: middle;\n",
       "    }\n",
       "\n",
       "    .dataframe tbody tr th {\n",
       "        vertical-align: top;\n",
       "    }\n",
       "\n",
       "    .dataframe thead th {\n",
       "        text-align: right;\n",
       "    }\n",
       "</style>\n",
       "<table border=\"1\" class=\"dataframe\">\n",
       "  <thead>\n",
       "    <tr style=\"text-align: right;\">\n",
       "      <th></th>\n",
       "      <th>id</th>\n",
       "      <th>budget</th>\n",
       "      <th>popularity</th>\n",
       "      <th>runtime</th>\n",
       "      <th>revenue</th>\n",
       "      <th>has_collection</th>\n",
       "      <th>num_genres</th>\n",
       "      <th>genre_Drama</th>\n",
       "      <th>genre_Comedy</th>\n",
       "      <th>genre_Thriller</th>\n",
       "      <th>...</th>\n",
       "      <th>departments_Art</th>\n",
       "      <th>departments_Crew</th>\n",
       "      <th>departments_Writing</th>\n",
       "      <th>departments_Costume &amp; Make-Up</th>\n",
       "      <th>departments_Camera</th>\n",
       "      <th>departments_Directing</th>\n",
       "      <th>departments_Editing</th>\n",
       "      <th>departments_Visual Effects</th>\n",
       "      <th>departments_Lighting</th>\n",
       "      <th>departments_Actors</th>\n",
       "    </tr>\n",
       "  </thead>\n",
       "  <tbody>\n",
       "    <tr>\n",
       "      <th>count</th>\n",
       "      <td>3000.000000</td>\n",
       "      <td>3.000000e+03</td>\n",
       "      <td>3000.000000</td>\n",
       "      <td>2998.000000</td>\n",
       "      <td>3.000000e+03</td>\n",
       "      <td>3000.000000</td>\n",
       "      <td>3000.000000</td>\n",
       "      <td>3000.000000</td>\n",
       "      <td>3000.000000</td>\n",
       "      <td>3000.000000</td>\n",
       "      <td>...</td>\n",
       "      <td>3000.000000</td>\n",
       "      <td>3000.000000</td>\n",
       "      <td>3000.000000</td>\n",
       "      <td>3000.00000</td>\n",
       "      <td>3000.000000</td>\n",
       "      <td>3000.000000</td>\n",
       "      <td>3000.000000</td>\n",
       "      <td>3000.000000</td>\n",
       "      <td>3000.000000</td>\n",
       "      <td>3000.000000</td>\n",
       "    </tr>\n",
       "    <tr>\n",
       "      <th>mean</th>\n",
       "      <td>1500.500000</td>\n",
       "      <td>2.253133e+07</td>\n",
       "      <td>8.463274</td>\n",
       "      <td>107.856571</td>\n",
       "      <td>6.672585e+07</td>\n",
       "      <td>0.201333</td>\n",
       "      <td>2.503667</td>\n",
       "      <td>0.510333</td>\n",
       "      <td>0.342667</td>\n",
       "      <td>0.263000</td>\n",
       "      <td>...</td>\n",
       "      <td>2.689667</td>\n",
       "      <td>2.438333</td>\n",
       "      <td>2.189000</td>\n",
       "      <td>2.05200</td>\n",
       "      <td>1.808000</td>\n",
       "      <td>1.651333</td>\n",
       "      <td>1.502667</td>\n",
       "      <td>1.197000</td>\n",
       "      <td>0.434333</td>\n",
       "      <td>0.001333</td>\n",
       "    </tr>\n",
       "    <tr>\n",
       "      <th>std</th>\n",
       "      <td>866.169729</td>\n",
       "      <td>3.702609e+07</td>\n",
       "      <td>12.104000</td>\n",
       "      <td>22.086434</td>\n",
       "      <td>1.375323e+08</td>\n",
       "      <td>0.401063</td>\n",
       "      <td>1.117021</td>\n",
       "      <td>0.499977</td>\n",
       "      <td>0.474680</td>\n",
       "      <td>0.440336</td>\n",
       "      <td>...</td>\n",
       "      <td>4.038993</td>\n",
       "      <td>6.129115</td>\n",
       "      <td>1.597956</td>\n",
       "      <td>3.51142</td>\n",
       "      <td>2.560597</td>\n",
       "      <td>1.353653</td>\n",
       "      <td>1.726940</td>\n",
       "      <td>3.733475</td>\n",
       "      <td>1.235393</td>\n",
       "      <td>0.044709</td>\n",
       "    </tr>\n",
       "    <tr>\n",
       "      <th>min</th>\n",
       "      <td>1.000000</td>\n",
       "      <td>0.000000e+00</td>\n",
       "      <td>0.000001</td>\n",
       "      <td>0.000000</td>\n",
       "      <td>1.000000e+00</td>\n",
       "      <td>0.000000</td>\n",
       "      <td>0.000000</td>\n",
       "      <td>0.000000</td>\n",
       "      <td>0.000000</td>\n",
       "      <td>0.000000</td>\n",
       "      <td>...</td>\n",
       "      <td>0.000000</td>\n",
       "      <td>0.000000</td>\n",
       "      <td>0.000000</td>\n",
       "      <td>0.00000</td>\n",
       "      <td>0.000000</td>\n",
       "      <td>0.000000</td>\n",
       "      <td>0.000000</td>\n",
       "      <td>0.000000</td>\n",
       "      <td>0.000000</td>\n",
       "      <td>0.000000</td>\n",
       "    </tr>\n",
       "    <tr>\n",
       "      <th>25%</th>\n",
       "      <td>750.750000</td>\n",
       "      <td>0.000000e+00</td>\n",
       "      <td>4.018053</td>\n",
       "      <td>94.000000</td>\n",
       "      <td>2.379808e+06</td>\n",
       "      <td>0.000000</td>\n",
       "      <td>2.000000</td>\n",
       "      <td>0.000000</td>\n",
       "      <td>0.000000</td>\n",
       "      <td>0.000000</td>\n",
       "      <td>...</td>\n",
       "      <td>0.000000</td>\n",
       "      <td>0.000000</td>\n",
       "      <td>1.000000</td>\n",
       "      <td>0.00000</td>\n",
       "      <td>0.000000</td>\n",
       "      <td>1.000000</td>\n",
       "      <td>0.000000</td>\n",
       "      <td>0.000000</td>\n",
       "      <td>0.000000</td>\n",
       "      <td>0.000000</td>\n",
       "    </tr>\n",
       "    <tr>\n",
       "      <th>50%</th>\n",
       "      <td>1500.500000</td>\n",
       "      <td>8.000000e+06</td>\n",
       "      <td>7.374861</td>\n",
       "      <td>104.000000</td>\n",
       "      <td>1.680707e+07</td>\n",
       "      <td>0.000000</td>\n",
       "      <td>2.000000</td>\n",
       "      <td>1.000000</td>\n",
       "      <td>0.000000</td>\n",
       "      <td>0.000000</td>\n",
       "      <td>...</td>\n",
       "      <td>1.000000</td>\n",
       "      <td>0.000000</td>\n",
       "      <td>2.000000</td>\n",
       "      <td>1.00000</td>\n",
       "      <td>1.000000</td>\n",
       "      <td>1.000000</td>\n",
       "      <td>1.000000</td>\n",
       "      <td>0.000000</td>\n",
       "      <td>0.000000</td>\n",
       "      <td>0.000000</td>\n",
       "    </tr>\n",
       "    <tr>\n",
       "      <th>75%</th>\n",
       "      <td>2250.250000</td>\n",
       "      <td>2.900000e+07</td>\n",
       "      <td>10.890983</td>\n",
       "      <td>118.000000</td>\n",
       "      <td>6.891920e+07</td>\n",
       "      <td>0.000000</td>\n",
       "      <td>3.000000</td>\n",
       "      <td>1.000000</td>\n",
       "      <td>1.000000</td>\n",
       "      <td>1.000000</td>\n",
       "      <td>...</td>\n",
       "      <td>3.000000</td>\n",
       "      <td>2.000000</td>\n",
       "      <td>3.000000</td>\n",
       "      <td>2.00000</td>\n",
       "      <td>2.000000</td>\n",
       "      <td>2.000000</td>\n",
       "      <td>2.000000</td>\n",
       "      <td>0.000000</td>\n",
       "      <td>0.000000</td>\n",
       "      <td>0.000000</td>\n",
       "    </tr>\n",
       "    <tr>\n",
       "      <th>max</th>\n",
       "      <td>3000.000000</td>\n",
       "      <td>3.800000e+08</td>\n",
       "      <td>294.337037</td>\n",
       "      <td>338.000000</td>\n",
       "      <td>1.519558e+09</td>\n",
       "      <td>1.000000</td>\n",
       "      <td>7.000000</td>\n",
       "      <td>1.000000</td>\n",
       "      <td>1.000000</td>\n",
       "      <td>1.000000</td>\n",
       "      <td>...</td>\n",
       "      <td>28.000000</td>\n",
       "      <td>119.000000</td>\n",
       "      <td>20.000000</td>\n",
       "      <td>33.00000</td>\n",
       "      <td>23.000000</td>\n",
       "      <td>30.000000</td>\n",
       "      <td>14.000000</td>\n",
       "      <td>52.000000</td>\n",
       "      <td>12.000000</td>\n",
       "      <td>2.000000</td>\n",
       "    </tr>\n",
       "  </tbody>\n",
       "</table>\n",
       "<p>8 rows × 190 columns</p>\n",
       "</div>"
      ],
      "text/plain": [
       "                id        budget   popularity      runtime       revenue  \\\n",
       "count  3000.000000  3.000000e+03  3000.000000  2998.000000  3.000000e+03   \n",
       "mean   1500.500000  2.253133e+07     8.463274   107.856571  6.672585e+07   \n",
       "std     866.169729  3.702609e+07    12.104000    22.086434  1.375323e+08   \n",
       "min       1.000000  0.000000e+00     0.000001     0.000000  1.000000e+00   \n",
       "25%     750.750000  0.000000e+00     4.018053    94.000000  2.379808e+06   \n",
       "50%    1500.500000  8.000000e+06     7.374861   104.000000  1.680707e+07   \n",
       "75%    2250.250000  2.900000e+07    10.890983   118.000000  6.891920e+07   \n",
       "max    3000.000000  3.800000e+08   294.337037   338.000000  1.519558e+09   \n",
       "\n",
       "       has_collection   num_genres  genre_Drama  genre_Comedy  genre_Thriller  \\\n",
       "count     3000.000000  3000.000000  3000.000000   3000.000000     3000.000000   \n",
       "mean         0.201333     2.503667     0.510333      0.342667        0.263000   \n",
       "std          0.401063     1.117021     0.499977      0.474680        0.440336   \n",
       "min          0.000000     0.000000     0.000000      0.000000        0.000000   \n",
       "25%          0.000000     2.000000     0.000000      0.000000        0.000000   \n",
       "50%          0.000000     2.000000     1.000000      0.000000        0.000000   \n",
       "75%          0.000000     3.000000     1.000000      1.000000        1.000000   \n",
       "max          1.000000     7.000000     1.000000      1.000000        1.000000   \n",
       "\n",
       "       ...  departments_Art  departments_Crew  departments_Writing  \\\n",
       "count  ...      3000.000000       3000.000000          3000.000000   \n",
       "mean   ...         2.689667          2.438333             2.189000   \n",
       "std    ...         4.038993          6.129115             1.597956   \n",
       "min    ...         0.000000          0.000000             0.000000   \n",
       "25%    ...         0.000000          0.000000             1.000000   \n",
       "50%    ...         1.000000          0.000000             2.000000   \n",
       "75%    ...         3.000000          2.000000             3.000000   \n",
       "max    ...        28.000000        119.000000            20.000000   \n",
       "\n",
       "       departments_Costume & Make-Up  departments_Camera  \\\n",
       "count                     3000.00000         3000.000000   \n",
       "mean                         2.05200            1.808000   \n",
       "std                          3.51142            2.560597   \n",
       "min                          0.00000            0.000000   \n",
       "25%                          0.00000            0.000000   \n",
       "50%                          1.00000            1.000000   \n",
       "75%                          2.00000            2.000000   \n",
       "max                         33.00000           23.000000   \n",
       "\n",
       "       departments_Directing  departments_Editing  departments_Visual Effects  \\\n",
       "count            3000.000000          3000.000000                 3000.000000   \n",
       "mean                1.651333             1.502667                    1.197000   \n",
       "std                 1.353653             1.726940                    3.733475   \n",
       "min                 0.000000             0.000000                    0.000000   \n",
       "25%                 1.000000             0.000000                    0.000000   \n",
       "50%                 1.000000             1.000000                    0.000000   \n",
       "75%                 2.000000             2.000000                    0.000000   \n",
       "max                30.000000            14.000000                   52.000000   \n",
       "\n",
       "       departments_Lighting  departments_Actors  \n",
       "count           3000.000000         3000.000000  \n",
       "mean               0.434333            0.001333  \n",
       "std                1.235393            0.044709  \n",
       "min                0.000000            0.000000  \n",
       "25%                0.000000            0.000000  \n",
       "50%                0.000000            0.000000  \n",
       "75%                0.000000            0.000000  \n",
       "max               12.000000            2.000000  \n",
       "\n",
       "[8 rows x 190 columns]"
      ]
     },
     "execution_count": 9,
     "metadata": {},
     "output_type": "execute_result"
    }
   ],
   "source": [
    "data.describe()"
   ]
  },
  {
   "cell_type": "code",
   "execution_count": 10,
   "metadata": {},
   "outputs": [
    {
     "data": {
      "text/plain": [
       "id                            3000\n",
       "budget                         406\n",
       "homepage                       941\n",
       "imdb_id                       3000\n",
       "original_language               36\n",
       "                              ... \n",
       "departments_Directing           16\n",
       "departments_Editing             14\n",
       "departments_Visual Effects      36\n",
       "departments_Lighting            12\n",
       "departments_Actors               3\n",
       "Length: 203, dtype: int64"
      ]
     },
     "execution_count": 10,
     "metadata": {},
     "output_type": "execute_result"
    }
   ],
   "source": [
    "data.nunique()"
   ]
  },
  {
   "cell_type": "markdown",
   "metadata": {},
   "source": [
    "### Data Cleaning"
   ]
  },
  {
   "cell_type": "code",
   "execution_count": 11,
   "metadata": {},
   "outputs": [],
   "source": [
    "data=data.fillna('NaN')"
   ]
  },
  {
   "cell_type": "code",
   "execution_count": 12,
   "metadata": {},
   "outputs": [
    {
     "data": {
      "text/plain": [
       "id                            0\n",
       "budget                        0\n",
       "homepage                      0\n",
       "imdb_id                       0\n",
       "original_language             0\n",
       "                             ..\n",
       "departments_Directing         0\n",
       "departments_Editing           0\n",
       "departments_Visual Effects    0\n",
       "departments_Lighting          0\n",
       "departments_Actors            0\n",
       "Length: 203, dtype: int64"
      ]
     },
     "execution_count": 12,
     "metadata": {},
     "output_type": "execute_result"
    }
   ],
   "source": [
    "data.isnull().sum()"
   ]
  },
  {
   "cell_type": "code",
   "execution_count": 13,
   "metadata": {},
   "outputs": [],
   "source": [
    "data.dropna(inplace = True) ##Removing missing data"
   ]
  },
  {
   "cell_type": "code",
   "execution_count": 14,
   "metadata": {},
   "outputs": [
    {
     "name": "stderr",
     "output_type": "stream",
     "text": [
      "/srv/conda/envs/notebook/lib/python3.7/site-packages/seaborn/utils.py:95: UserWarning: Glyph 3616 (\\N{THAI CHARACTER PHO SAMPHAO}) missing from current font.\n",
      "  fig.canvas.draw()\n",
      "/srv/conda/envs/notebook/lib/python3.7/site-packages/seaborn/utils.py:95: UserWarning: Glyph 3634 (\\N{THAI CHARACTER SARA AA}) missing from current font.\n",
      "  fig.canvas.draw()\n",
      "/srv/conda/envs/notebook/lib/python3.7/site-packages/seaborn/utils.py:95: UserWarning: Glyph 3625 (\\N{THAI CHARACTER SO RUSI}) missing from current font.\n",
      "  fig.canvas.draw()\n",
      "/srv/conda/envs/notebook/lib/python3.7/site-packages/seaborn/utils.py:95: UserWarning: Glyph 3652 (\\N{THAI CHARACTER SARA AI MAIMALAI}) missing from current font.\n",
      "  fig.canvas.draw()\n",
      "/srv/conda/envs/notebook/lib/python3.7/site-packages/seaborn/utils.py:95: UserWarning: Glyph 3607 (\\N{THAI CHARACTER THO THAHAN}) missing from current font.\n",
      "  fig.canvas.draw()\n",
      "/srv/conda/envs/notebook/lib/python3.7/site-packages/seaborn/utils.py:95: UserWarning: Glyph 3618 (\\N{THAI CHARACTER YO YAK}) missing from current font.\n",
      "  fig.canvas.draw()\n",
      "/srv/conda/envs/notebook/lib/python3.7/site-packages/seaborn/utils.py:660: UserWarning: Glyph 3616 (\\N{THAI CHARACTER PHO SAMPHAO}) missing from current font.\n",
      "  bboxes = [l.get_window_extent() for l in labels]\n",
      "/srv/conda/envs/notebook/lib/python3.7/site-packages/seaborn/utils.py:660: UserWarning: Glyph 3634 (\\N{THAI CHARACTER SARA AA}) missing from current font.\n",
      "  bboxes = [l.get_window_extent() for l in labels]\n",
      "/srv/conda/envs/notebook/lib/python3.7/site-packages/seaborn/utils.py:660: UserWarning: Glyph 3625 (\\N{THAI CHARACTER SO RUSI}) missing from current font.\n",
      "  bboxes = [l.get_window_extent() for l in labels]\n",
      "/srv/conda/envs/notebook/lib/python3.7/site-packages/seaborn/utils.py:660: UserWarning: Glyph 3652 (\\N{THAI CHARACTER SARA AI MAIMALAI}) missing from current font.\n",
      "  bboxes = [l.get_window_extent() for l in labels]\n",
      "/srv/conda/envs/notebook/lib/python3.7/site-packages/seaborn/utils.py:660: UserWarning: Glyph 3607 (\\N{THAI CHARACTER THO THAHAN}) missing from current font.\n",
      "  bboxes = [l.get_window_extent() for l in labels]\n",
      "/srv/conda/envs/notebook/lib/python3.7/site-packages/seaborn/utils.py:660: UserWarning: Glyph 3618 (\\N{THAI CHARACTER YO YAK}) missing from current font.\n",
      "  bboxes = [l.get_window_extent() for l in labels]\n"
     ]
    },
    {
     "data": {
      "text/plain": [
       "<AxesSubplot:>"
      ]
     },
     "execution_count": 14,
     "metadata": {},
     "output_type": "execute_result"
    },
    {
     "name": "stderr",
     "output_type": "stream",
     "text": [
      "/srv/conda/envs/notebook/lib/python3.7/site-packages/IPython/core/pylabtools.py:151: UserWarning: Glyph 3616 (\\N{THAI CHARACTER PHO SAMPHAO}) missing from current font.\n",
      "  fig.canvas.print_figure(bytes_io, **kw)\n",
      "/srv/conda/envs/notebook/lib/python3.7/site-packages/IPython/core/pylabtools.py:151: UserWarning: Glyph 3634 (\\N{THAI CHARACTER SARA AA}) missing from current font.\n",
      "  fig.canvas.print_figure(bytes_io, **kw)\n",
      "/srv/conda/envs/notebook/lib/python3.7/site-packages/IPython/core/pylabtools.py:151: UserWarning: Glyph 3625 (\\N{THAI CHARACTER SO RUSI}) missing from current font.\n",
      "  fig.canvas.print_figure(bytes_io, **kw)\n",
      "/srv/conda/envs/notebook/lib/python3.7/site-packages/IPython/core/pylabtools.py:151: UserWarning: Glyph 3652 (\\N{THAI CHARACTER SARA AI MAIMALAI}) missing from current font.\n",
      "  fig.canvas.print_figure(bytes_io, **kw)\n",
      "/srv/conda/envs/notebook/lib/python3.7/site-packages/IPython/core/pylabtools.py:151: UserWarning: Glyph 3607 (\\N{THAI CHARACTER THO THAHAN}) missing from current font.\n",
      "  fig.canvas.print_figure(bytes_io, **kw)\n",
      "/srv/conda/envs/notebook/lib/python3.7/site-packages/IPython/core/pylabtools.py:151: UserWarning: Glyph 3618 (\\N{THAI CHARACTER YO YAK}) missing from current font.\n",
      "  fig.canvas.print_figure(bytes_io, **kw)\n"
     ]
    },
    {
     "data": {
      "image/png": "[encoded data removed]",
      "text/plain": [
       "<Figure size 432x288 with 2 Axes>"
      ]
     },
     "metadata": {
      "needs_background": "light"
     },
     "output_type": "display_data"
    }
   ],
   "source": [
    "sns.heatmap(data.isnull())"
   ]
  },
  {
   "cell_type": "code",
   "execution_count": 15,
   "metadata": {},
   "outputs": [
    {
     "data": {
      "text/plain": [
       "0"
      ]
     },
     "execution_count": 15,
     "metadata": {},
     "output_type": "execute_result"
    }
   ],
   "source": [
    "data.duplicated().sum()"
   ]
  },
  {
   "cell_type": "markdown",
   "metadata": {
    "id": "h1C9Vze1Po56"
   },
   "source": [
    "## Task 2: Visualizing the Target Distribution"
   ]
  },
  {
   "cell_type": "code",
   "execution_count": 16,
   "metadata": {
    "id": "pErQCv3bPo57"
   },
   "outputs": [
    {
     "data": {
      "text/plain": [
       "<AxesSubplot:>"
      ]
     },
     "execution_count": 16,
     "metadata": {},
     "output_type": "execute_result"
    },
    {
     "data": {
      "image/png": "[encoded data removed]",
      "text/plain": [
       "<Figure size 432x288 with 1 Axes>"
      ]
     },
     "metadata": {
      "needs_background": "light"
     },
     "output_type": "display_data"
    }
   ],
   "source": [
    "data.revenue.hist()"
   ]
  },
  {
   "cell_type": "code",
   "execution_count": 17,
   "metadata": {
    "id": "GsoCEviqPo58"
   },
   "outputs": [
    {
     "data": {
      "image/png": "[encoded data removed]",
      "text/plain": [
       "<Figure size 1080x432 with 1 Axes>"
      ]
     },
     "metadata": {
      "needs_background": "light"
     },
     "output_type": "display_data"
    },
    {
     "name": "stdout",
     "output_type": "stream",
     "text": [
      "Revenue has a mean 66725851.88866667 and standard deviation 137532326.3360184\n"
     ]
    }
   ],
   "source": [
    "plt.figure(figsize=(15,6))\n",
    "plt.hist(data['revenue'],bins=30)\n",
    "plt.title(\"Distribution of revenue\")\n",
    "plt.show()\n",
    "print(f\"Revenue has a mean {data['revenue'].mean()} and standard deviation {data['revenue'].std()}\")"
   ]
  },
  {
   "cell_type": "markdown",
   "metadata": {},
   "source": [
    "Log transforms are a common way to deal with features or targets that are heavily skewed. So For every increase of 1 in the log transform, we can say the revenue increased 10x. \n",
    "With the log transform we can see we've reduced the skew."
   ]
  },
  {
   "cell_type": "code",
   "execution_count": 18,
   "metadata": {},
   "outputs": [
    {
     "data": {
      "image/png": "[encoded data removed]",
      "text/plain": [
       "<Figure size 864x360 with 1 Axes>"
      ]
     },
     "metadata": {
      "needs_background": "light"
     },
     "output_type": "display_data"
    }
   ],
   "source": [
    "plt.figure(figsize=(12,5))\n",
    "plt.hist(data['revenue'].apply(np.log),bins=60)\n",
    "plt.title('Distribution of log revenue')\n",
    "plt.show()"
   ]
  },
  {
   "cell_type": "markdown",
   "metadata": {},
   "source": [
    "### final overview"
   ]
  },
  {
   "cell_type": "code",
   "execution_count": 19,
   "metadata": {},
   "outputs": [
    {
     "data": {
      "image/png": "[encoded data removed]",
      "text/plain": [
       "<Figure size 1080x432 with 1 Axes>"
      ]
     },
     "metadata": {
      "needs_background": "light"
     },
     "output_type": "display_data"
    }
   ],
   "source": [
    "plt.figure(figsize=(15,6))\n",
    "plt.hist(data['budget'],color='green',bins=65)\n",
    "plt.title('Distribution of budget')\n",
    "plt.show()"
   ]
  },
  {
   "cell_type": "code",
   "execution_count": 20,
   "metadata": {},
   "outputs": [
    {
     "data": {
      "image/png": "[encoded data removed]",
      "text/plain": [
       "<Figure size 864x360 with 1 Axes>"
      ]
     },
     "metadata": {
      "needs_background": "light"
     },
     "output_type": "display_data"
    }
   ],
   "source": [
    "data['budget'] = data['budget'].apply(np.log)\n",
    "data['budget'] = data['budget'].replace(-np.inf,0)\n",
    "plt.figure(figsize = (12,5))\n",
    "plt.hist(data['budget'],bins=35,color='green')\n",
    "plt.title('Distribution of log+1 budget')\n",
    "plt.show()"
   ]
  },
  {
   "cell_type": "markdown",
   "metadata": {
    "id": "hIZLMZ5kPo59"
   },
   "source": [
    "## Task 3: Relationship between Film Revenue and Budget"
   ]
  },
  {
   "cell_type": "code",
   "execution_count": 21,
   "metadata": {
    "id": "GvQnNCTPPo5-"
   },
   "outputs": [
    {
     "data": {
      "text/html": [
       "<div>\n",
       "<style scoped>\n",
       "    .dataframe tbody tr th:only-of-type {\n",
       "        vertical-align: middle;\n",
       "    }\n",
       "\n",
       "    .dataframe tbody tr th {\n",
       "        vertical-align: top;\n",
       "    }\n",
       "\n",
       "    .dataframe thead th {\n",
       "        text-align: right;\n",
       "    }\n",
       "</style>\n",
       "<table border=\"1\" class=\"dataframe\">\n",
       "  <thead>\n",
       "    <tr style=\"text-align: right;\">\n",
       "      <th></th>\n",
       "      <th>id</th>\n",
       "      <th>budget</th>\n",
       "      <th>homepage</th>\n",
       "      <th>imdb_id</th>\n",
       "      <th>original_language</th>\n",
       "      <th>original_title</th>\n",
       "      <th>overview</th>\n",
       "      <th>popularity</th>\n",
       "      <th>poster_path</th>\n",
       "      <th>release_date</th>\n",
       "      <th>...</th>\n",
       "      <th>departments_Art</th>\n",
       "      <th>departments_Crew</th>\n",
       "      <th>departments_Writing</th>\n",
       "      <th>departments_Costume &amp; Make-Up</th>\n",
       "      <th>departments_Camera</th>\n",
       "      <th>departments_Directing</th>\n",
       "      <th>departments_Editing</th>\n",
       "      <th>departments_Visual Effects</th>\n",
       "      <th>departments_Lighting</th>\n",
       "      <th>departments_Actors</th>\n",
       "    </tr>\n",
       "  </thead>\n",
       "  <tbody>\n",
       "    <tr>\n",
       "      <th>1126</th>\n",
       "      <td>1127</td>\n",
       "      <td>19.209138</td>\n",
       "      <td>http://marvel.com/avengers_movie/</td>\n",
       "      <td>tt0848228</td>\n",
       "      <td>en</td>\n",
       "      <td>The Avengers</td>\n",
       "      <td>When an unexpected enemy emerges and threatens...</td>\n",
       "      <td>89.887648</td>\n",
       "      <td>/cezWGskPY5x7GaglTTRN4Fugfb8.jpg</td>\n",
       "      <td>4/25/12</td>\n",
       "      <td>...</td>\n",
       "      <td>24</td>\n",
       "      <td>23</td>\n",
       "      <td>6</td>\n",
       "      <td>18</td>\n",
       "      <td>8</td>\n",
       "      <td>2</td>\n",
       "      <td>4</td>\n",
       "      <td>29</td>\n",
       "      <td>6</td>\n",
       "      <td>0</td>\n",
       "    </tr>\n",
       "  </tbody>\n",
       "</table>\n",
       "<p>1 rows × 203 columns</p>\n",
       "</div>"
      ],
      "text/plain": [
       "        id     budget                           homepage    imdb_id  \\\n",
       "1126  1127  19.209138  http://marvel.com/avengers_movie/  tt0848228   \n",
       "\n",
       "     original_language original_title  \\\n",
       "1126                en   The Avengers   \n",
       "\n",
       "                                               overview  popularity  \\\n",
       "1126  When an unexpected enemy emerges and threatens...   89.887648   \n",
       "\n",
       "                           poster_path release_date  ... departments_Art  \\\n",
       "1126  /cezWGskPY5x7GaglTTRN4Fugfb8.jpg      4/25/12  ...              24   \n",
       "\n",
       "     departments_Crew departments_Writing departments_Costume & Make-Up  \\\n",
       "1126               23                   6                            18   \n",
       "\n",
       "     departments_Camera  departments_Directing departments_Editing  \\\n",
       "1126                  8                      2                   4   \n",
       "\n",
       "      departments_Visual Effects  departments_Lighting departments_Actors  \n",
       "1126                          29                     6                  0  \n",
       "\n",
       "[1 rows x 203 columns]"
      ]
     },
     "execution_count": 21,
     "metadata": {},
     "output_type": "execute_result"
    }
   ],
   "source": [
    "data[data['revenue'] == data['revenue'].max()]"
   ]
  },
  {
   "cell_type": "code",
   "execution_count": 23,
   "metadata": {
    "id": "yQUqi89oPo5-"
   },
   "outputs": [
    {
     "data": {
      "text/html": [
       "<div>\n",
       "<style scoped>\n",
       "    .dataframe tbody tr th:only-of-type {\n",
       "        vertical-align: middle;\n",
       "    }\n",
       "\n",
       "    .dataframe tbody tr th {\n",
       "        vertical-align: top;\n",
       "    }\n",
       "\n",
       "    .dataframe thead th {\n",
       "        text-align: right;\n",
       "    }\n",
       "</style>\n",
       "<table border=\"1\" class=\"dataframe\">\n",
       "  <thead>\n",
       "    <tr style=\"text-align: right;\">\n",
       "      <th></th>\n",
       "      <th>id</th>\n",
       "      <th>title</th>\n",
       "      <th>budget</th>\n",
       "      <th>revenue</th>\n",
       "    </tr>\n",
       "  </thead>\n",
       "  <tbody>\n",
       "    <tr>\n",
       "      <th>1126</th>\n",
       "      <td>1127</td>\n",
       "      <td>The Avengers</td>\n",
       "      <td>19.209138</td>\n",
       "      <td>1519557910</td>\n",
       "    </tr>\n",
       "    <tr>\n",
       "      <th>1761</th>\n",
       "      <td>1762</td>\n",
       "      <td>Furious 7</td>\n",
       "      <td>19.062535</td>\n",
       "      <td>1506249360</td>\n",
       "    </tr>\n",
       "    <tr>\n",
       "      <th>2770</th>\n",
       "      <td>2771</td>\n",
       "      <td>Avengers: Age of Ultron</td>\n",
       "      <td>19.450300</td>\n",
       "      <td>1405403694</td>\n",
       "    </tr>\n",
       "    <tr>\n",
       "      <th>684</th>\n",
       "      <td>685</td>\n",
       "      <td>Beauty and the Beast</td>\n",
       "      <td>18.890684</td>\n",
       "      <td>1262886337</td>\n",
       "    </tr>\n",
       "    <tr>\n",
       "      <th>2322</th>\n",
       "      <td>2323</td>\n",
       "      <td>Transformers: Dark of the Moon</td>\n",
       "      <td>19.088510</td>\n",
       "      <td>1123746996</td>\n",
       "    </tr>\n",
       "  </tbody>\n",
       "</table>\n",
       "</div>"
      ],
      "text/plain": [
       "        id                           title     budget     revenue\n",
       "1126  1127                    The Avengers  19.209138  1519557910\n",
       "1761  1762                       Furious 7  19.062535  1506249360\n",
       "2770  2771         Avengers: Age of Ultron  19.450300  1405403694\n",
       "684    685            Beauty and the Beast  18.890684  1262886337\n",
       "2322  2323  Transformers: Dark of the Moon  19.088510  1123746996"
      ]
     },
     "execution_count": 23,
     "metadata": {},
     "output_type": "execute_result"
    }
   ],
   "source": [
    "data[['id','title','budget','revenue']].sort_values(['revenue'], ascending=False).head(5)"
   ]
  },
  {
   "cell_type": "markdown",
   "metadata": {},
   "source": [
    "The Avengers made the highest revenue"
   ]
  },
  {
   "cell_type": "code",
   "execution_count": 24,
   "metadata": {},
   "outputs": [
    {
     "data": {
      "text/html": [
       "<div>\n",
       "<style scoped>\n",
       "    .dataframe tbody tr th:only-of-type {\n",
       "        vertical-align: middle;\n",
       "    }\n",
       "\n",
       "    .dataframe tbody tr th {\n",
       "        vertical-align: top;\n",
       "    }\n",
       "\n",
       "    .dataframe thead th {\n",
       "        text-align: right;\n",
       "    }\n",
       "</style>\n",
       "<table border=\"1\" class=\"dataframe\">\n",
       "  <thead>\n",
       "    <tr style=\"text-align: right;\">\n",
       "      <th></th>\n",
       "      <th>id</th>\n",
       "      <th>budget</th>\n",
       "      <th>homepage</th>\n",
       "      <th>imdb_id</th>\n",
       "      <th>original_language</th>\n",
       "      <th>original_title</th>\n",
       "      <th>overview</th>\n",
       "      <th>popularity</th>\n",
       "      <th>poster_path</th>\n",
       "      <th>release_date</th>\n",
       "      <th>...</th>\n",
       "      <th>departments_Art</th>\n",
       "      <th>departments_Crew</th>\n",
       "      <th>departments_Writing</th>\n",
       "      <th>departments_Costume &amp; Make-Up</th>\n",
       "      <th>departments_Camera</th>\n",
       "      <th>departments_Directing</th>\n",
       "      <th>departments_Editing</th>\n",
       "      <th>departments_Visual Effects</th>\n",
       "      <th>departments_Lighting</th>\n",
       "      <th>departments_Actors</th>\n",
       "    </tr>\n",
       "  </thead>\n",
       "  <tbody>\n",
       "    <tr>\n",
       "      <th>2135</th>\n",
       "      <td>2136</td>\n",
       "      <td>19.755682</td>\n",
       "      <td>http://disney.go.com/pirates/index-on-stranger...</td>\n",
       "      <td>tt1298650</td>\n",
       "      <td>en</td>\n",
       "      <td>Pirates of the Caribbean: On Stranger Tides</td>\n",
       "      <td>Captain Jack Sparrow crosses paths with a woma...</td>\n",
       "      <td>27.88772</td>\n",
       "      <td>/wNUDAq5OUMOtxMlz64YaCp7gZma.jpg</td>\n",
       "      <td>5/14/11</td>\n",
       "      <td>...</td>\n",
       "      <td>3</td>\n",
       "      <td>1</td>\n",
       "      <td>2</td>\n",
       "      <td>2</td>\n",
       "      <td>2</td>\n",
       "      <td>2</td>\n",
       "      <td>4</td>\n",
       "      <td>1</td>\n",
       "      <td>0</td>\n",
       "      <td>0</td>\n",
       "    </tr>\n",
       "  </tbody>\n",
       "</table>\n",
       "<p>1 rows × 203 columns</p>\n",
       "</div>"
      ],
      "text/plain": [
       "        id     budget                                           homepage  \\\n",
       "2135  2136  19.755682  http://disney.go.com/pirates/index-on-stranger...   \n",
       "\n",
       "        imdb_id original_language  \\\n",
       "2135  tt1298650                en   \n",
       "\n",
       "                                   original_title  \\\n",
       "2135  Pirates of the Caribbean: On Stranger Tides   \n",
       "\n",
       "                                               overview  popularity  \\\n",
       "2135  Captain Jack Sparrow crosses paths with a woma...    27.88772   \n",
       "\n",
       "                           poster_path release_date  ... departments_Art  \\\n",
       "2135  /wNUDAq5OUMOtxMlz64YaCp7gZma.jpg      5/14/11  ...               3   \n",
       "\n",
       "     departments_Crew departments_Writing departments_Costume & Make-Up  \\\n",
       "2135                1                   2                             2   \n",
       "\n",
       "     departments_Camera  departments_Directing departments_Editing  \\\n",
       "2135                  2                      2                   4   \n",
       "\n",
       "      departments_Visual Effects  departments_Lighting departments_Actors  \n",
       "2135                           1                     0                  0  \n",
       "\n",
       "[1 rows x 203 columns]"
      ]
     },
     "execution_count": 24,
     "metadata": {},
     "output_type": "execute_result"
    }
   ],
   "source": [
    "data[data['budget'] == data['budget'].max()]"
   ]
  },
  {
   "cell_type": "code",
   "execution_count": 25,
   "metadata": {},
   "outputs": [
    {
     "data": {
      "text/html": [
       "<div>\n",
       "<style scoped>\n",
       "    .dataframe tbody tr th:only-of-type {\n",
       "        vertical-align: middle;\n",
       "    }\n",
       "\n",
       "    .dataframe tbody tr th {\n",
       "        vertical-align: top;\n",
       "    }\n",
       "\n",
       "    .dataframe thead th {\n",
       "        text-align: right;\n",
       "    }\n",
       "</style>\n",
       "<table border=\"1\" class=\"dataframe\">\n",
       "  <thead>\n",
       "    <tr style=\"text-align: right;\">\n",
       "      <th></th>\n",
       "      <th>id</th>\n",
       "      <th>title</th>\n",
       "      <th>budget</th>\n",
       "      <th>revenue</th>\n",
       "    </tr>\n",
       "  </thead>\n",
       "  <tbody>\n",
       "    <tr>\n",
       "      <th>2135</th>\n",
       "      <td>2136</td>\n",
       "      <td>Pirates of the Caribbean: On Stranger Tides</td>\n",
       "      <td>19.755682</td>\n",
       "      <td>1045713802</td>\n",
       "    </tr>\n",
       "    <tr>\n",
       "      <th>2209</th>\n",
       "      <td>2210</td>\n",
       "      <td>Pirates of the Caribbean: At World's End</td>\n",
       "      <td>19.519293</td>\n",
       "      <td>961000000</td>\n",
       "    </tr>\n",
       "    <tr>\n",
       "      <th>2770</th>\n",
       "      <td>2771</td>\n",
       "      <td>Avengers: Age of Ultron</td>\n",
       "      <td>19.450300</td>\n",
       "      <td>1405403694</td>\n",
       "    </tr>\n",
       "    <tr>\n",
       "      <th>1425</th>\n",
       "      <td>1426</td>\n",
       "      <td>Superman Returns</td>\n",
       "      <td>19.413933</td>\n",
       "      <td>391081192</td>\n",
       "    </tr>\n",
       "    <tr>\n",
       "      <th>1270</th>\n",
       "      <td>1271</td>\n",
       "      <td>John Carter</td>\n",
       "      <td>19.376192</td>\n",
       "      <td>284139100</td>\n",
       "    </tr>\n",
       "  </tbody>\n",
       "</table>\n",
       "</div>"
      ],
      "text/plain": [
       "        id                                        title     budget     revenue\n",
       "2135  2136  Pirates of the Caribbean: On Stranger Tides  19.755682  1045713802\n",
       "2209  2210     Pirates of the Caribbean: At World's End  19.519293   961000000\n",
       "2770  2771                      Avengers: Age of Ultron  19.450300  1405403694\n",
       "1425  1426                             Superman Returns  19.413933   391081192\n",
       "1270  1271                                  John Carter  19.376192   284139100"
      ]
     },
     "execution_count": 25,
     "metadata": {},
     "output_type": "execute_result"
    }
   ],
   "source": [
    "\n",
    "data[['id','title','budget', 'revenue']].sort_values(['budget'], ascending=False).head(5)"
   ]
  },
  {
   "cell_type": "code",
   "execution_count": 28,
   "metadata": {},
   "outputs": [],
   "source": [
    "\n",
    "\n",
    "data['log_budget'] = np.log1p(data['budget'])\n",
    "data['log_revenue'] = np.log1p(data['revenue'])\n"
   ]
  },
  {
   "cell_type": "code",
   "execution_count": 29,
   "metadata": {},
   "outputs": [
    {
     "name": "stderr",
     "output_type": "stream",
     "text": [
      "/srv/conda/envs/notebook/lib/python3.7/site-packages/seaborn/_decorators.py:43: FutureWarning: Pass the following variables as keyword args: x, y. From version 0.12, the only valid positional argument will be `data`, and passing other arguments without an explicit keyword will result in an error or misinterpretation.\n",
      "  FutureWarning\n",
      "/srv/conda/envs/notebook/lib/python3.7/site-packages/seaborn/_decorators.py:43: FutureWarning: Pass the following variables as keyword args: x, y. From version 0.12, the only valid positional argument will be `data`, and passing other arguments without an explicit keyword will result in an error or misinterpretation.\n",
      "  FutureWarning\n"
     ]
    },
    {
     "data": {
      "image/png": "[encoded data removed]",
      "text/plain": [
       "<Figure size 1152x576 with 2 Axes>"
      ]
     },
     "metadata": {
      "needs_background": "light"
     },
     "output_type": "display_data"
    }
   ],
   "source": [
    "plt.figure(figsize=(16,8))\n",
    "plt.subplot(1,2,1)\n",
    "sns.scatterplot(data['budget'], data['revenue'])\n",
    "plt.title('Budget v/s Revenue');\n",
    "\n",
    "plt.subplot(1,2,2)\n",
    "sns.scatterplot(data['log_budget'], data['log_revenue'])\n",
    "plt.title('Log Budget v/s Log Revenue');"
   ]
  },
  {
   "cell_type": "markdown",
   "metadata": {
    "id": "Gq53luJ_Po5_"
   },
   "source": [
    "## Task 4: Distribution of Languages in Film"
   ]
  },
  {
   "cell_type": "code",
   "execution_count": 38,
   "metadata": {
    "id": "B89ZPsrsPo6A"
   },
   "outputs": [
    {
     "data": {
      "text/html": [
       "<div>\n",
       "<style scoped>\n",
       "    .dataframe tbody tr th:only-of-type {\n",
       "        vertical-align: middle;\n",
       "    }\n",
       "\n",
       "    .dataframe tbody tr th {\n",
       "        vertical-align: top;\n",
       "    }\n",
       "\n",
       "    .dataframe thead th {\n",
       "        text-align: right;\n",
       "    }\n",
       "</style>\n",
       "<table border=\"1\" class=\"dataframe\">\n",
       "  <thead>\n",
       "    <tr style=\"text-align: right;\">\n",
       "      <th></th>\n",
       "      <th>id</th>\n",
       "      <th>budget</th>\n",
       "      <th>homepage</th>\n",
       "      <th>imdb_id</th>\n",
       "      <th>original_language</th>\n",
       "      <th>original_title</th>\n",
       "      <th>overview</th>\n",
       "      <th>popularity</th>\n",
       "      <th>poster_path</th>\n",
       "      <th>release_date</th>\n",
       "      <th>...</th>\n",
       "      <th>departments_Writing</th>\n",
       "      <th>departments_Costume &amp; Make-Up</th>\n",
       "      <th>departments_Camera</th>\n",
       "      <th>departments_Directing</th>\n",
       "      <th>departments_Editing</th>\n",
       "      <th>departments_Visual Effects</th>\n",
       "      <th>departments_Lighting</th>\n",
       "      <th>departments_Actors</th>\n",
       "      <th>log_budget</th>\n",
       "      <th>log_revenue</th>\n",
       "    </tr>\n",
       "  </thead>\n",
       "  <tbody>\n",
       "    <tr>\n",
       "      <th>0</th>\n",
       "      <td>1</td>\n",
       "      <td>16.454568</td>\n",
       "      <td>NaN</td>\n",
       "      <td>tt2637294</td>\n",
       "      <td>en</td>\n",
       "      <td>Hot Tub Time Machine 2</td>\n",
       "      <td>When Lou, who has become the \"father of the In...</td>\n",
       "      <td>6.575393</td>\n",
       "      <td>/tQtWuwvMf0hCc2QR2tkolwl7c3c.jpg</td>\n",
       "      <td>2/20/15</td>\n",
       "      <td>...</td>\n",
       "      <td>2</td>\n",
       "      <td>13</td>\n",
       "      <td>8</td>\n",
       "      <td>4</td>\n",
       "      <td>2</td>\n",
       "      <td>4</td>\n",
       "      <td>4</td>\n",
       "      <td>0</td>\n",
       "      <td>2.859601</td>\n",
       "      <td>16.326300</td>\n",
       "    </tr>\n",
       "    <tr>\n",
       "      <th>1</th>\n",
       "      <td>2</td>\n",
       "      <td>17.504390</td>\n",
       "      <td>NaN</td>\n",
       "      <td>tt0368933</td>\n",
       "      <td>en</td>\n",
       "      <td>The Princess Diaries 2: Royal Engagement</td>\n",
       "      <td>Mia Thermopolis is now a college graduate and ...</td>\n",
       "      <td>8.248895</td>\n",
       "      <td>/w9Z7A0GHEhIp7etpj0vyKOeU1Wx.jpg</td>\n",
       "      <td>8/6/04</td>\n",
       "      <td>...</td>\n",
       "      <td>1</td>\n",
       "      <td>0</td>\n",
       "      <td>1</td>\n",
       "      <td>1</td>\n",
       "      <td>1</td>\n",
       "      <td>0</td>\n",
       "      <td>0</td>\n",
       "      <td>0</td>\n",
       "      <td>2.918008</td>\n",
       "      <td>18.370959</td>\n",
       "    </tr>\n",
       "    <tr>\n",
       "      <th>2</th>\n",
       "      <td>3</td>\n",
       "      <td>15.009433</td>\n",
       "      <td>http://sonyclassics.com/whiplash/</td>\n",
       "      <td>tt2582802</td>\n",
       "      <td>en</td>\n",
       "      <td>Whiplash</td>\n",
       "      <td>Under the direction of a ruthless instructor, ...</td>\n",
       "      <td>64.299990</td>\n",
       "      <td>/lIv1QinFqz4dlp5U4lQ6HaiskOZ.jpg</td>\n",
       "      <td>10/10/14</td>\n",
       "      <td>...</td>\n",
       "      <td>1</td>\n",
       "      <td>5</td>\n",
       "      <td>4</td>\n",
       "      <td>3</td>\n",
       "      <td>6</td>\n",
       "      <td>3</td>\n",
       "      <td>1</td>\n",
       "      <td>0</td>\n",
       "      <td>2.773178</td>\n",
       "      <td>16.387512</td>\n",
       "    </tr>\n",
       "    <tr>\n",
       "      <th>3</th>\n",
       "      <td>4</td>\n",
       "      <td>13.997832</td>\n",
       "      <td>http://kahaanithefilm.com/</td>\n",
       "      <td>tt1821480</td>\n",
       "      <td>hi</td>\n",
       "      <td>Kahaani</td>\n",
       "      <td>Vidya Bagchi (Vidya Balan) arrives in Kolkata ...</td>\n",
       "      <td>3.174936</td>\n",
       "      <td>/aTXRaPrWSinhcmCrcfJK17urp3F.jpg</td>\n",
       "      <td>3/9/12</td>\n",
       "      <td>...</td>\n",
       "      <td>1</td>\n",
       "      <td>0</td>\n",
       "      <td>0</td>\n",
       "      <td>1</td>\n",
       "      <td>0</td>\n",
       "      <td>0</td>\n",
       "      <td>0</td>\n",
       "      <td>0</td>\n",
       "      <td>2.707906</td>\n",
       "      <td>16.588099</td>\n",
       "    </tr>\n",
       "    <tr>\n",
       "      <th>5</th>\n",
       "      <td>6</td>\n",
       "      <td>15.894952</td>\n",
       "      <td>NaN</td>\n",
       "      <td>tt0093743</td>\n",
       "      <td>en</td>\n",
       "      <td>Pinocchio and the Emperor of the Night</td>\n",
       "      <td>Pinocchio and his friends, a glow worm and a m...</td>\n",
       "      <td>0.743274</td>\n",
       "      <td>/6IDqA1D2NBIVhzEEaMMRL28iBrq.jpg</td>\n",
       "      <td>8/6/87</td>\n",
       "      <td>...</td>\n",
       "      <td>4</td>\n",
       "      <td>0</td>\n",
       "      <td>0</td>\n",
       "      <td>1</td>\n",
       "      <td>0</td>\n",
       "      <td>4</td>\n",
       "      <td>0</td>\n",
       "      <td>0</td>\n",
       "      <td>2.827015</td>\n",
       "      <td>14.997740</td>\n",
       "    </tr>\n",
       "    <tr>\n",
       "      <th>...</th>\n",
       "      <td>...</td>\n",
       "      <td>...</td>\n",
       "      <td>...</td>\n",
       "      <td>...</td>\n",
       "      <td>...</td>\n",
       "      <td>...</td>\n",
       "      <td>...</td>\n",
       "      <td>...</td>\n",
       "      <td>...</td>\n",
       "      <td>...</td>\n",
       "      <td>...</td>\n",
       "      <td>...</td>\n",
       "      <td>...</td>\n",
       "      <td>...</td>\n",
       "      <td>...</td>\n",
       "      <td>...</td>\n",
       "      <td>...</td>\n",
       "      <td>...</td>\n",
       "      <td>...</td>\n",
       "      <td>...</td>\n",
       "      <td>...</td>\n",
       "    </tr>\n",
       "    <tr>\n",
       "      <th>2994</th>\n",
       "      <td>2995</td>\n",
       "      <td>0.000000</td>\n",
       "      <td>NaN</td>\n",
       "      <td>tt0105327</td>\n",
       "      <td>en</td>\n",
       "      <td>School Ties</td>\n",
       "      <td>When David Greene receives a football scholars...</td>\n",
       "      <td>7.438381</td>\n",
       "      <td>/poV3j71mcmQkmjezc2H35xJsAhD.jpg</td>\n",
       "      <td>9/18/92</td>\n",
       "      <td>...</td>\n",
       "      <td>2</td>\n",
       "      <td>2</td>\n",
       "      <td>1</td>\n",
       "      <td>1</td>\n",
       "      <td>2</td>\n",
       "      <td>0</td>\n",
       "      <td>0</td>\n",
       "      <td>0</td>\n",
       "      <td>0.000000</td>\n",
       "      <td>16.504383</td>\n",
       "    </tr>\n",
       "    <tr>\n",
       "      <th>2995</th>\n",
       "      <td>2996</td>\n",
       "      <td>0.000000</td>\n",
       "      <td>NaN</td>\n",
       "      <td>tt0109403</td>\n",
       "      <td>en</td>\n",
       "      <td>Chasers</td>\n",
       "      <td>Military men Rock Reilly and Eddie Devane are ...</td>\n",
       "      <td>9.853270</td>\n",
       "      <td>/j8Q7pQ27hvH54wpxJzIuQgQCdro.jpg</td>\n",
       "      <td>4/22/94</td>\n",
       "      <td>...</td>\n",
       "      <td>5</td>\n",
       "      <td>0</td>\n",
       "      <td>1</td>\n",
       "      <td>1</td>\n",
       "      <td>1</td>\n",
       "      <td>0</td>\n",
       "      <td>0</td>\n",
       "      <td>0</td>\n",
       "      <td>0.000000</td>\n",
       "      <td>14.283442</td>\n",
       "    </tr>\n",
       "    <tr>\n",
       "      <th>2997</th>\n",
       "      <td>2998</td>\n",
       "      <td>17.989898</td>\n",
       "      <td>NaN</td>\n",
       "      <td>tt0116908</td>\n",
       "      <td>en</td>\n",
       "      <td>The Long Kiss Goodnight</td>\n",
       "      <td>Samantha Caine, suburban homemaker, is the ide...</td>\n",
       "      <td>14.482345</td>\n",
       "      <td>/4MENR8x6mYqnZvp2hGjSaPJz64J.jpg</td>\n",
       "      <td>10/11/96</td>\n",
       "      <td>...</td>\n",
       "      <td>1</td>\n",
       "      <td>0</td>\n",
       "      <td>1</td>\n",
       "      <td>1</td>\n",
       "      <td>1</td>\n",
       "      <td>0</td>\n",
       "      <td>0</td>\n",
       "      <td>0</td>\n",
       "      <td>2.943907</td>\n",
       "      <td>18.309266</td>\n",
       "    </tr>\n",
       "    <tr>\n",
       "      <th>2998</th>\n",
       "      <td>2999</td>\n",
       "      <td>17.553180</td>\n",
       "      <td>http://www.alongcamepolly.com/</td>\n",
       "      <td>tt0343135</td>\n",
       "      <td>en</td>\n",
       "      <td>Along Came Polly</td>\n",
       "      <td>Reuben Feffer is a guy who's spent his entire ...</td>\n",
       "      <td>15.725542</td>\n",
       "      <td>/nIY4kvJTTnxoBR0wycrXng5MOYs.jpg</td>\n",
       "      <td>1/16/04</td>\n",
       "      <td>...</td>\n",
       "      <td>1</td>\n",
       "      <td>14</td>\n",
       "      <td>9</td>\n",
       "      <td>4</td>\n",
       "      <td>9</td>\n",
       "      <td>0</td>\n",
       "      <td>3</td>\n",
       "      <td>0</td>\n",
       "      <td>2.920641</td>\n",
       "      <td>18.962792</td>\n",
       "    </tr>\n",
       "    <tr>\n",
       "      <th>2999</th>\n",
       "      <td>3000</td>\n",
       "      <td>17.370859</td>\n",
       "      <td>http://www.abductionthefilm.com/</td>\n",
       "      <td>tt1600195</td>\n",
       "      <td>en</td>\n",
       "      <td>Abduction</td>\n",
       "      <td>A young man sets out to uncover the truth abou...</td>\n",
       "      <td>10.512109</td>\n",
       "      <td>/cUT6NQP5LAJpmUoStGtXmvNt4zA.jpg</td>\n",
       "      <td>9/22/11</td>\n",
       "      <td>...</td>\n",
       "      <td>1</td>\n",
       "      <td>7</td>\n",
       "      <td>3</td>\n",
       "      <td>2</td>\n",
       "      <td>2</td>\n",
       "      <td>5</td>\n",
       "      <td>0</td>\n",
       "      <td>0</td>\n",
       "      <td>2.910766</td>\n",
       "      <td>18.223292</td>\n",
       "    </tr>\n",
       "  </tbody>\n",
       "</table>\n",
       "<p>2785 rows × 205 columns</p>\n",
       "</div>"
      ],
      "text/plain": [
       "        id     budget                           homepage    imdb_id  \\\n",
       "0        1  16.454568                                NaN  tt2637294   \n",
       "1        2  17.504390                                NaN  tt0368933   \n",
       "2        3  15.009433  http://sonyclassics.com/whiplash/  tt2582802   \n",
       "3        4  13.997832         http://kahaanithefilm.com/  tt1821480   \n",
       "5        6  15.894952                                NaN  tt0093743   \n",
       "...    ...        ...                                ...        ...   \n",
       "2994  2995   0.000000                                NaN  tt0105327   \n",
       "2995  2996   0.000000                                NaN  tt0109403   \n",
       "2997  2998  17.989898                                NaN  tt0116908   \n",
       "2998  2999  17.553180     http://www.alongcamepolly.com/  tt0343135   \n",
       "2999  3000  17.370859   http://www.abductionthefilm.com/  tt1600195   \n",
       "\n",
       "     original_language                            original_title  \\\n",
       "0                   en                    Hot Tub Time Machine 2   \n",
       "1                   en  The Princess Diaries 2: Royal Engagement   \n",
       "2                   en                                  Whiplash   \n",
       "3                   hi                                   Kahaani   \n",
       "5                   en    Pinocchio and the Emperor of the Night   \n",
       "...                ...                                       ...   \n",
       "2994                en                               School Ties   \n",
       "2995                en                                   Chasers   \n",
       "2997                en                   The Long Kiss Goodnight   \n",
       "2998                en                          Along Came Polly   \n",
       "2999                en                                 Abduction   \n",
       "\n",
       "                                               overview  popularity  \\\n",
       "0     When Lou, who has become the \"father of the In...    6.575393   \n",
       "1     Mia Thermopolis is now a college graduate and ...    8.248895   \n",
       "2     Under the direction of a ruthless instructor, ...   64.299990   \n",
       "3     Vidya Bagchi (Vidya Balan) arrives in Kolkata ...    3.174936   \n",
       "5     Pinocchio and his friends, a glow worm and a m...    0.743274   \n",
       "...                                                 ...         ...   \n",
       "2994  When David Greene receives a football scholars...    7.438381   \n",
       "2995  Military men Rock Reilly and Eddie Devane are ...    9.853270   \n",
       "2997  Samantha Caine, suburban homemaker, is the ide...   14.482345   \n",
       "2998  Reuben Feffer is a guy who's spent his entire ...   15.725542   \n",
       "2999  A young man sets out to uncover the truth abou...   10.512109   \n",
       "\n",
       "                           poster_path release_date  ... departments_Writing  \\\n",
       "0     /tQtWuwvMf0hCc2QR2tkolwl7c3c.jpg      2/20/15  ...                   2   \n",
       "1     /w9Z7A0GHEhIp7etpj0vyKOeU1Wx.jpg       8/6/04  ...                   1   \n",
       "2     /lIv1QinFqz4dlp5U4lQ6HaiskOZ.jpg     10/10/14  ...                   1   \n",
       "3     /aTXRaPrWSinhcmCrcfJK17urp3F.jpg       3/9/12  ...                   1   \n",
       "5     /6IDqA1D2NBIVhzEEaMMRL28iBrq.jpg       8/6/87  ...                   4   \n",
       "...                                ...          ...  ...                 ...   \n",
       "2994  /poV3j71mcmQkmjezc2H35xJsAhD.jpg      9/18/92  ...                   2   \n",
       "2995  /j8Q7pQ27hvH54wpxJzIuQgQCdro.jpg      4/22/94  ...                   5   \n",
       "2997  /4MENR8x6mYqnZvp2hGjSaPJz64J.jpg     10/11/96  ...                   1   \n",
       "2998  /nIY4kvJTTnxoBR0wycrXng5MOYs.jpg      1/16/04  ...                   1   \n",
       "2999  /cUT6NQP5LAJpmUoStGtXmvNt4zA.jpg      9/22/11  ...                   1   \n",
       "\n",
       "     departments_Costume & Make-Up departments_Camera departments_Directing  \\\n",
       "0                               13                  8                     4   \n",
       "1                                0                  1                     1   \n",
       "2                                5                  4                     3   \n",
       "3                                0                  0                     1   \n",
       "5                                0                  0                     1   \n",
       "...                            ...                ...                   ...   \n",
       "2994                             2                  1                     1   \n",
       "2995                             0                  1                     1   \n",
       "2997                             0                  1                     1   \n",
       "2998                            14                  9                     4   \n",
       "2999                             7                  3                     2   \n",
       "\n",
       "     departments_Editing  departments_Visual Effects departments_Lighting  \\\n",
       "0                      2                           4                    4   \n",
       "1                      1                           0                    0   \n",
       "2                      6                           3                    1   \n",
       "3                      0                           0                    0   \n",
       "5                      0                           4                    0   \n",
       "...                  ...                         ...                  ...   \n",
       "2994                   2                           0                    0   \n",
       "2995                   1                           0                    0   \n",
       "2997                   1                           0                    0   \n",
       "2998                   9                           0                    3   \n",
       "2999                   2                           5                    0   \n",
       "\n",
       "      departments_Actors  log_budget log_revenue  \n",
       "0                      0    2.859601   16.326300  \n",
       "1                      0    2.918008   18.370959  \n",
       "2                      0    2.773178   16.387512  \n",
       "3                      0    2.707906   16.588099  \n",
       "5                      0    2.827015   14.997740  \n",
       "...                  ...         ...         ...  \n",
       "2994                   0    0.000000   16.504383  \n",
       "2995                   0    0.000000   14.283442  \n",
       "2997                   0    2.943907   18.309266  \n",
       "2998                   0    2.920641   18.962792  \n",
       "2999                   0    2.910766   18.223292  \n",
       "\n",
       "[2785 rows x 205 columns]"
      ]
     },
     "execution_count": 38,
     "metadata": {},
     "output_type": "execute_result"
    }
   ],
   "source": [
    "data.loc[data['original_language'].isin(data['original_language'].value_counts().head(5).index)]\n"
   ]
  },
  {
   "cell_type": "code",
   "execution_count": 39,
   "metadata": {
    "id": "9WwlJH2RPo6A"
   },
   "outputs": [
    {
     "data": {
      "text/plain": [
       "Text(0.5, 1.0, 'Mean log revenue per language')"
      ]
     },
     "execution_count": 39,
     "metadata": {},
     "output_type": "execute_result"
    },
    {
     "data": {
      "image/png": "[encoded data removed]",
      "text/plain": [
       "<Figure size 1152x432 with 2 Axes>"
      ]
     },
     "metadata": {
      "needs_background": "light"
     },
     "output_type": "display_data"
    }
   ],
   "source": [
    "language_data = data.loc[data['original_language'].isin(data['original_language'].value_counts().head(10).index)]\n",
    "\n",
    "fig,ax=plt.subplots(figsize=(16,6))\n",
    "plt.subplot(1,2,1)\n",
    "sns.boxplot(x='original_language',y='revenue',data=language_data)\n",
    "plt.title('Mean revenue per language')\n",
    "plt.subplot(1,2,2)\n",
    "sns.boxplot(x='original_language',y='log_revenue',data=language_data)\n",
    "plt.title('Mean log revenue per language')\n",
    "\n"
   ]
  },
  {
   "cell_type": "markdown",
   "metadata": {
    "id": "Pzlghaw9Po6B"
   },
   "source": [
    "# THANK YOU \n",
    "# BY AYUSH SINGH RAWAT"
   ]
  },
  {
   "cell_type": "code",
   "execution_count": null,
   "metadata": {},
   "outputs": [],
   "source": []
  }
 ],
 "metadata": {
  "colab": {
   "name": "Project_2 Notebook.ipynb",
   "provenance": []
  },
  "kernelspec": {
   "display_name": "Python 3 (ipykernel)",
   "language": "python",
   "name": "python3"
  },
  "language_info": {
   "codemirror_mode": {
    "name": "ipython",
    "version": 3
   },
   "file_extension": ".py",
   "mimetype": "text/x-python",
   "name": "python",
   "nbconvert_exporter": "python",
   "pygments_lexer": "ipython3",
   "version": "3.7.12"
  }
 },
 "nbformat": 4,
 "nbformat_minor": 1
}
